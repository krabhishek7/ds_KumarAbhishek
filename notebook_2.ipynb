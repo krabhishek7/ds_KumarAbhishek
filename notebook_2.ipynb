{
  "cells": [
    {
      "cell_type": "markdown",
      "metadata": {},
      "source": [
        "# Notebook 2: Statistical Tests and Simple Models\n",
        "\n",
        "This notebook examines relationships between sentiment and daily trading KPIs via:\n",
        "- Non-parametric correlations\n",
        "- OLS regression of `total_net_pnl_usd` on `fg_value` and controls\n",
        "- Logistic regression for `positive_pnl_day` vs `fg_value`\n",
        "\n"
      ]
    },
    {
      "cell_type": "code",
      "execution_count": 7,
      "metadata": {},
      "outputs": [
        {
          "name": "stdout",
          "output_type": "stream",
          "text": [
            "(480, 17)\n"
          ]
        },
        {
          "data": {
            "text/html": [
              "<div>\n",
              "<style scoped>\n",
              "    .dataframe tbody tr th:only-of-type {\n",
              "        vertical-align: middle;\n",
              "    }\n",
              "\n",
              "    .dataframe tbody tr th {\n",
              "        vertical-align: top;\n",
              "    }\n",
              "\n",
              "    .dataframe thead th {\n",
              "        text-align: right;\n",
              "    }\n",
              "</style>\n",
              "<table border=\"1\" class=\"dataframe\">\n",
              "  <thead>\n",
              "    <tr style=\"text-align: right;\">\n",
              "      <th></th>\n",
              "      <th>date</th>\n",
              "      <th>total_trade_value_usd</th>\n",
              "      <th>total_volume_usd</th>\n",
              "      <th>total_volume_tokens</th>\n",
              "      <th>avg_execution_price</th>\n",
              "      <th>total_fees_usd</th>\n",
              "      <th>total_pnl_usd</th>\n",
              "      <th>total_net_pnl_usd</th>\n",
              "      <th>avg_leverage</th>\n",
              "      <th>buy_volume_usd</th>\n",
              "      <th>sell_volume_usd</th>\n",
              "      <th>num_trades</th>\n",
              "      <th>num_accounts</th>\n",
              "      <th>num_coins</th>\n",
              "      <th>buy_sell_ratio</th>\n",
              "      <th>fg_value</th>\n",
              "      <th>classification</th>\n",
              "    </tr>\n",
              "  </thead>\n",
              "  <tbody>\n",
              "    <tr>\n",
              "      <th>0</th>\n",
              "      <td>2023-05-01</td>\n",
              "      <td>477.00</td>\n",
              "      <td>477.00</td>\n",
              "      <td>0.25130</td>\n",
              "      <td>1898.133333</td>\n",
              "      <td>0.000000</td>\n",
              "      <td>0.000000</td>\n",
              "      <td>0.000000</td>\n",
              "      <td>NaN</td>\n",
              "      <td>477.00</td>\n",
              "      <td>0.00</td>\n",
              "      <td>3</td>\n",
              "      <td>1</td>\n",
              "      <td>1</td>\n",
              "      <td>NaN</td>\n",
              "      <td>63.0</td>\n",
              "      <td>Greed</td>\n",
              "    </tr>\n",
              "    <tr>\n",
              "      <th>1</th>\n",
              "      <td>2023-12-05</td>\n",
              "      <td>50005.83</td>\n",
              "      <td>50005.83</td>\n",
              "      <td>11.80901</td>\n",
              "      <td>11038.300000</td>\n",
              "      <td>12.501455</td>\n",
              "      <td>0.000000</td>\n",
              "      <td>-12.501455</td>\n",
              "      <td>NaN</td>\n",
              "      <td>25007.21</td>\n",
              "      <td>24998.62</td>\n",
              "      <td>9</td>\n",
              "      <td>1</td>\n",
              "      <td>2</td>\n",
              "      <td>1.000344</td>\n",
              "      <td>75.0</td>\n",
              "      <td>Extreme Greed</td>\n",
              "    </tr>\n",
              "    <tr>\n",
              "      <th>2</th>\n",
              "      <td>2023-12-14</td>\n",
              "      <td>113203.35</td>\n",
              "      <td>113203.35</td>\n",
              "      <td>4092.28901</td>\n",
              "      <td>8031.868818</td>\n",
              "      <td>28.300831</td>\n",
              "      <td>-205.434737</td>\n",
              "      <td>-233.735568</td>\n",
              "      <td>NaN</td>\n",
              "      <td>51407.47</td>\n",
              "      <td>61795.88</td>\n",
              "      <td>11</td>\n",
              "      <td>1</td>\n",
              "      <td>4</td>\n",
              "      <td>0.831892</td>\n",
              "      <td>72.0</td>\n",
              "      <td>Greed</td>\n",
              "    </tr>\n",
              "  </tbody>\n",
              "</table>\n",
              "</div>"
            ],
            "text/plain": [
              "        date  total_trade_value_usd  total_volume_usd  total_volume_tokens  \\\n",
              "0 2023-05-01                 477.00            477.00              0.25130   \n",
              "1 2023-12-05               50005.83          50005.83             11.80901   \n",
              "2 2023-12-14              113203.35         113203.35           4092.28901   \n",
              "\n",
              "   avg_execution_price  total_fees_usd  total_pnl_usd  total_net_pnl_usd  \\\n",
              "0          1898.133333        0.000000       0.000000           0.000000   \n",
              "1         11038.300000       12.501455       0.000000         -12.501455   \n",
              "2          8031.868818       28.300831    -205.434737        -233.735568   \n",
              "\n",
              "   avg_leverage  buy_volume_usd  sell_volume_usd  num_trades  num_accounts  \\\n",
              "0           NaN          477.00             0.00           3             1   \n",
              "1           NaN        25007.21         24998.62           9             1   \n",
              "2           NaN        51407.47         61795.88          11             1   \n",
              "\n",
              "   num_coins  buy_sell_ratio  fg_value classification  \n",
              "0          1             NaN      63.0          Greed  \n",
              "1          2        1.000344      75.0  Extreme Greed  \n",
              "2          4        0.831892      72.0          Greed  "
            ]
          },
          "execution_count": 7,
          "metadata": {},
          "output_type": "execute_result"
        }
      ],
      "source": [
        "import os\n",
        "import warnings\n",
        "warnings.filterwarnings(\"ignore\")\n",
        "\n",
        "import pandas as pd\n",
        "import numpy as np\n",
        "import seaborn as sns\n",
        "import matplotlib.pyplot as plt\n",
        "\n",
        "from scipy import stats\n",
        "import statsmodels.api as sm\n",
        "from sklearn.model_selection import train_test_split\n",
        "from sklearn.metrics import roc_auc_score, classification_report\n",
        "from sklearn.linear_model import LogisticRegression\n",
        "\n",
        "BASE_DIR = \"/Users/kumarabhishek/Desktop/Assignment_task/ds_abhishek\"\n",
        "OUT_DATA = os.path.join(BASE_DIR, \"outputs\", \"data\")\n",
        "OUT_FIG = os.path.join(BASE_DIR, \"outputs\", \"figures\")\n",
        "\n",
        "merged_path = os.path.join(OUT_DATA, \"daily_metrics_with_sentiment.csv\")\n",
        "df = pd.read_csv(merged_path, parse_dates=[\"date\"]) \n",
        "print(df.shape)\n",
        "df.head(3)\n"
      ]
    },
    {
      "cell_type": "code",
      "execution_count": 8,
      "metadata": {},
      "outputs": [
        {
          "name": "stdout",
          "output_type": "stream",
          "text": [
            "Spearman rho (FG vs Net PnL): 0.043, p=0.349\n",
            "OLS skipped: no valid rows after cleaning\n"
          ]
        }
      ],
      "source": [
        "use = df.dropna(subset=[\"fg_value\"]).copy()\n",
        "\n",
        "rho, pval = stats.spearmanr(use[\"fg_value\"], use[\"total_net_pnl_usd\"], nan_policy=\"omit\")\n",
        "print(f\"Spearman rho (FG vs Net PnL): {rho:.3f}, p={pval:.3g}\")\n",
        "controls = [c for c in [\"total_volume_usd\", \"total_fees_usd\", \"num_trades\", \"avg_leverage\"] if c in use.columns]\n",
        "\n",
        "cols = [\"total_net_pnl_usd\", \"fg_value\"] + controls\n",
        "ols_tmp = use[cols].apply(pd.to_numeric, errors=\"coerce\")\n",
        "ols_tmp = ols_tmp.replace([np.inf, -np.inf], np.nan).dropna()\n",
        "\n",
        "if ols_tmp.empty:\n",
        "    print(\"OLS skipped: no valid rows after cleaning\")\n",
        "else:\n",
        "    y = ols_tmp[\"total_net_pnl_usd\"]\n",
        "    X = ols_tmp.drop(columns=[\"total_net_pnl_usd\"]).copy()\n",
        "    non_zero_var = [c for c in X.columns if X[c].std(ddof=0) > 0]\n",
        "    X = X[non_zero_var]\n",
        "    X = sm.add_constant(X, has_constant=\"add\")\n",
        "    if X.shape[1] < 2 or len(y) < 5:\n",
        "        print(f\"OLS skipped: insufficient predictors or rows. X shape={X.shape}, n={len(y)}\")\n",
        "    else:\n",
        "        try:\n",
        "            model = sm.OLS(y, X).fit(cov_type=\"HC3\")\n",
        "            print(model.summary())\n",
        "        except Exception as e:\n",
        "            print(\"OLS skipped due to error:\", repr(e))\n"
      ]
    },
    {
      "cell_type": "code",
      "execution_count": 9,
      "metadata": {},
      "outputs": [
        {
          "name": "stdout",
          "output_type": "stream",
          "text": [
            "Logistic AUC: 0.710\n",
            "              precision    recall  f1-score   support\n",
            "\n",
            "           0       0.00      0.00      0.00        32\n",
            "           1       0.73      1.00      0.85        88\n",
            "\n",
            "    accuracy                           0.73       120\n",
            "   macro avg       0.37      0.50      0.42       120\n",
            "weighted avg       0.54      0.73      0.62       120\n",
            "\n"
          ]
        }
      ],
      "source": [
        "cls = use.copy()\n",
        "cls[\"positive_pnl_day\"] = (cls[\"total_net_pnl_usd\"] > 0).astype(int)\n",
        "\n",
        "features = [\"fg_value\"] + [c for c in [\"total_volume_usd\", \"num_trades\", \"total_fees_usd\"] if c in cls.columns]\n",
        "cls_model = cls.dropna(subset=features + [\"positive_pnl_day\"]).copy()\n",
        "\n",
        "for c in features:\n",
        "    cls_model[c] = pd.to_numeric(cls_model[c], errors=\"coerce\")\n",
        "cls_model = cls_model.replace([np.inf, -np.inf], np.nan).dropna(subset=features + [\"positive_pnl_day\"]).copy()\n",
        "\n",
        "X = cls_model[features]\n",
        "y = cls_model[\"positive_pnl_day\"]\n",
        "non_zero = [c for c in X.columns if X[c].std(ddof=0) > 0]\n",
        "X = X[non_zero]\n",
        "\n",
        "if X.empty or len(np.unique(y)) < 2:\n",
        "    print(\"Classification skipped: insufficient features or only one class present\")\n",
        "else:\n",
        "    X_train, X_test, y_train, y_test = train_test_split(\n",
        "        X, y, test_size=0.25, random_state=42, stratify=y\n",
        "    )\n",
        "\n",
        "    logit = LogisticRegression(max_iter=1000)\n",
        "    try:\n",
        "        logit.fit(X_train, y_train)\n",
        "        proba = logit.predict_proba(X_test)[:, 1]\n",
        "        if len(np.unique(y_test)) < 2:\n",
        "            print(\"AUC skipped: y_test has a single class\")\n",
        "        else:\n",
        "            auc = roc_auc_score(y_test, proba)\n",
        "            print(f\"Logistic AUC: {auc:.3f}\")\n",
        "        print(classification_report(y_test, (proba>0.5).astype(int)))\n",
        "    except Exception as e:\n",
        "        print(\"Classification skipped due to error:\", repr(e))\n"
      ]
    },
    {
      "cell_type": "code",
      "execution_count": 10,
      "metadata": {},
      "outputs": [
        {
          "name": "stdout",
          "output_type": "stream",
          "text": [
            "Saved: /Users/kumarabhishek/Desktop/Assignment_task/ds_abhishek/outputs/data/daily_modeling_dataset.csv\n"
          ]
        }
      ],
      "source": [
        "#saving the dataset\n",
        "use.to_csv(os.path.join(OUT_DATA, \"daily_modeling_dataset.csv\"), index=False)\n",
        "print(\"Saved:\", os.path.join(OUT_DATA, \"daily_modeling_dataset.csv\"))\n"
      ]
    }
  ],
  "metadata": {
    "kernelspec": {
      "display_name": "Python 3",
      "language": "python",
      "name": "python3"
    },
    "language_info": {
      "codemirror_mode": {
        "name": "ipython",
        "version": 3
      },
      "file_extension": ".py",
      "mimetype": "text/x-python",
      "name": "python",
      "nbconvert_exporter": "python",
      "pygments_lexer": "ipython3",
      "version": "3.12.7"
    }
  },
  "nbformat": 4,
  "nbformat_minor": 2
}
